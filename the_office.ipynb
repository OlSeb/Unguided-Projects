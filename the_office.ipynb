{
 "cells": [
  {
   "cell_type": "markdown",
   "metadata": {
    "dc": {
     "key": "4"
    },
    "deletable": false,
    "run_control": {
     "frozen": true
    },
    "tags": [
     "context"
    ]
   },
   "source": [
    "<p>In this notebook, we will take a look at a dataset of The Office episodes, and try to understand how the popularity and quality of the series varied over time. To do so, we will use the following dataset: <code>datasets/office_episodes.csv</code>, which was downloaded from Kaggle <a href=\"https://www.kaggle.com/nehaprabhavalkar/the-office-dataset\">here</a>.</p>\n",
    "<p>This dataset contains information on a variety of characteristics of each episode. In detail, these are:\n",
    "<br></p>\n",
    "<div style=\"background-color: #efebe4; color: #05192d; text-align:left; vertical-align: middle; padding: 15px 25px 15px 25px; line-height: 1.6;\">\n",
    "    <div style=\"font-size:20px\"><b>datasets/office_episodes.csv</b></div>\n",
    "<ul>\n",
    "    <li><b>episode_number:</b> Canonical episode number.</li>\n",
    "    <li><b>season:</b> Season in which the episode appeared.</li>\n",
    "    <li><b>episode_title:</b> Title of the episode.</li>\n",
    "    <li><b>description:</b> Description of the episode.</li>\n",
    "    <li><b>ratings:</b> Average IMDB rating.</li>\n",
    "    <li><b>votes:</b> Number of votes.</li>\n",
    "    <li><b>viewership_mil:</b> Number of US viewers in millions.</li>\n",
    "    <li><b>duration:</b> Duration in number of minutes.</li>\n",
    "    <li><b>release_date:</b> Airdate.</li>\n",
    "    <li><b>guest_stars:</b> Guest stars in the episode (if any).</li>\n",
    "    <li><b>director:</b> Director of the episode.</li>\n",
    "    <li><b>writers:</b> Writers of the episode.</li>\n",
    "    <li><b>has_guests:</b> True/False column for whether the episode contained guest stars.</li>\n",
    "    <li><b>scaled_ratings:</b> The ratings scaled from 0 (worst-reviewed) to 1 (best-reviewed).</li>\n",
    "</ul>\n",
    "    </div>"
   ]
  },
  {
   "cell_type": "code",
   "execution_count": 2,
   "metadata": {
    "collapsed": true,
    "dc": {
     "key": "4"
    }
   },
   "outputs": [],
   "source": [
    "import pandas as pd\n",
    "import matplotlib.pyplot as plt"
   ]
  },
  {
   "cell_type": "code",
   "execution_count": 3,
   "metadata": {
    "collapsed": true,
    "dc": {
     "key": "4"
    },
    "scrolled": true,
    "tags": [
     "sample_code"
    ]
   },
   "outputs": [],
   "source": [
    "office = pd.read_csv(\"datasets/office_episodes.csv\", parse_dates=[\"release_date\"])\n",
    "plt.rcParams['figure.figsize'] = [11, 7]"
   ]
  },
  {
   "cell_type": "code",
   "execution_count": 4,
   "metadata": {
    "dc": {
     "key": "4"
    },
    "scrolled": true
   },
   "outputs": [
    {
     "data": {
      "text/html": [
       "<div>\n",
       "<style scoped>\n",
       "    .dataframe tbody tr th:only-of-type {\n",
       "        vertical-align: middle;\n",
       "    }\n",
       "\n",
       "    .dataframe tbody tr th {\n",
       "        vertical-align: top;\n",
       "    }\n",
       "\n",
       "    .dataframe thead th {\n",
       "        text-align: right;\n",
       "    }\n",
       "</style>\n",
       "<table border=\"1\" class=\"dataframe\">\n",
       "  <thead>\n",
       "    <tr style=\"text-align: right;\">\n",
       "      <th></th>\n",
       "      <th>episode_number</th>\n",
       "      <th>season</th>\n",
       "      <th>episode_title</th>\n",
       "      <th>description</th>\n",
       "      <th>ratings</th>\n",
       "      <th>votes</th>\n",
       "      <th>viewership_mil</th>\n",
       "      <th>duration</th>\n",
       "      <th>release_date</th>\n",
       "      <th>guest_stars</th>\n",
       "      <th>director</th>\n",
       "      <th>writers</th>\n",
       "      <th>has_guests</th>\n",
       "      <th>scaled_ratings</th>\n",
       "    </tr>\n",
       "  </thead>\n",
       "  <tbody>\n",
       "    <tr>\n",
       "      <th>0</th>\n",
       "      <td>0</td>\n",
       "      <td>1</td>\n",
       "      <td>Pilot</td>\n",
       "      <td>The premiere episode introduces the boss and s...</td>\n",
       "      <td>7.5</td>\n",
       "      <td>4936</td>\n",
       "      <td>11.2</td>\n",
       "      <td>23</td>\n",
       "      <td>2005-03-24</td>\n",
       "      <td>NaN</td>\n",
       "      <td>Ken Kwapis</td>\n",
       "      <td>Ricky Gervais |Stephen Merchant and Greg Daniels</td>\n",
       "      <td>False</td>\n",
       "      <td>0.28125</td>\n",
       "    </tr>\n",
       "    <tr>\n",
       "      <th>1</th>\n",
       "      <td>1</td>\n",
       "      <td>1</td>\n",
       "      <td>Diversity Day</td>\n",
       "      <td>Michael's off color remark puts a sensitivity ...</td>\n",
       "      <td>8.3</td>\n",
       "      <td>4801</td>\n",
       "      <td>6.0</td>\n",
       "      <td>23</td>\n",
       "      <td>2005-03-29</td>\n",
       "      <td>NaN</td>\n",
       "      <td>Ken Kwapis</td>\n",
       "      <td>B. J. Novak</td>\n",
       "      <td>False</td>\n",
       "      <td>0.53125</td>\n",
       "    </tr>\n",
       "    <tr>\n",
       "      <th>2</th>\n",
       "      <td>2</td>\n",
       "      <td>1</td>\n",
       "      <td>Health Care</td>\n",
       "      <td>Michael leaves Dwight in charge of picking the...</td>\n",
       "      <td>7.8</td>\n",
       "      <td>4024</td>\n",
       "      <td>5.8</td>\n",
       "      <td>22</td>\n",
       "      <td>2005-04-05</td>\n",
       "      <td>NaN</td>\n",
       "      <td>Ken Whittingham</td>\n",
       "      <td>Paul Lieberstein</td>\n",
       "      <td>False</td>\n",
       "      <td>0.37500</td>\n",
       "    </tr>\n",
       "    <tr>\n",
       "      <th>3</th>\n",
       "      <td>3</td>\n",
       "      <td>1</td>\n",
       "      <td>The Alliance</td>\n",
       "      <td>Just for a laugh, Jim agrees to an alliance wi...</td>\n",
       "      <td>8.1</td>\n",
       "      <td>3915</td>\n",
       "      <td>5.4</td>\n",
       "      <td>23</td>\n",
       "      <td>2005-04-12</td>\n",
       "      <td>NaN</td>\n",
       "      <td>Bryan Gordon</td>\n",
       "      <td>Michael Schur</td>\n",
       "      <td>False</td>\n",
       "      <td>0.46875</td>\n",
       "    </tr>\n",
       "    <tr>\n",
       "      <th>4</th>\n",
       "      <td>4</td>\n",
       "      <td>1</td>\n",
       "      <td>Basketball</td>\n",
       "      <td>Michael and his staff challenge the warehouse ...</td>\n",
       "      <td>8.4</td>\n",
       "      <td>4294</td>\n",
       "      <td>5.0</td>\n",
       "      <td>23</td>\n",
       "      <td>2005-04-19</td>\n",
       "      <td>NaN</td>\n",
       "      <td>Greg Daniels</td>\n",
       "      <td>Greg Daniels</td>\n",
       "      <td>False</td>\n",
       "      <td>0.56250</td>\n",
       "    </tr>\n",
       "  </tbody>\n",
       "</table>\n",
       "</div>"
      ],
      "text/plain": [
       "   episode_number  season  episode_title  \\\n",
       "0               0       1          Pilot   \n",
       "1               1       1  Diversity Day   \n",
       "2               2       1    Health Care   \n",
       "3               3       1   The Alliance   \n",
       "4               4       1     Basketball   \n",
       "\n",
       "                                         description  ratings  votes  \\\n",
       "0  The premiere episode introduces the boss and s...      7.5   4936   \n",
       "1  Michael's off color remark puts a sensitivity ...      8.3   4801   \n",
       "2  Michael leaves Dwight in charge of picking the...      7.8   4024   \n",
       "3  Just for a laugh, Jim agrees to an alliance wi...      8.1   3915   \n",
       "4  Michael and his staff challenge the warehouse ...      8.4   4294   \n",
       "\n",
       "   viewership_mil  duration release_date guest_stars         director  \\\n",
       "0            11.2        23   2005-03-24         NaN       Ken Kwapis   \n",
       "1             6.0        23   2005-03-29         NaN       Ken Kwapis   \n",
       "2             5.8        22   2005-04-05         NaN  Ken Whittingham   \n",
       "3             5.4        23   2005-04-12         NaN     Bryan Gordon   \n",
       "4             5.0        23   2005-04-19         NaN     Greg Daniels   \n",
       "\n",
       "                                            writers  has_guests  \\\n",
       "0  Ricky Gervais |Stephen Merchant and Greg Daniels       False   \n",
       "1                                       B. J. Novak       False   \n",
       "2                                  Paul Lieberstein       False   \n",
       "3                                     Michael Schur       False   \n",
       "4                                      Greg Daniels       False   \n",
       "\n",
       "   scaled_ratings  \n",
       "0         0.28125  \n",
       "1         0.53125  \n",
       "2         0.37500  \n",
       "3         0.46875  \n",
       "4         0.56250  "
      ]
     },
     "execution_count": 4,
     "metadata": {},
     "output_type": "execute_result"
    }
   ],
   "source": [
    "office.head()"
   ]
  },
  {
   "cell_type": "code",
   "execution_count": 18,
   "metadata": {
    "dc": {
     "key": "4"
    }
   },
   "outputs": [],
   "source": [
    "colors = []\n",
    "\n",
    "for i, row in office.iterrows():\n",
    "    if row[\"scaled_ratings\"] < 0.25:\n",
    "        colors.append(\"red\")\n",
    "    elif row[\"scaled_ratings\"] < 0.5:\n",
    "        colors.append(\"orange\")\n",
    "    elif row[\"scaled_ratings\"] < 0.75:\n",
    "        colors.append(\"lightgreen\")\n",
    "    else:\n",
    "        colors.append(\"darkgreen\")"
   ]
  },
  {
   "cell_type": "code",
   "execution_count": 6,
   "metadata": {
    "collapsed": true,
    "dc": {
     "key": "4"
    }
   },
   "outputs": [],
   "source": [
    "sizes = []\n",
    "\n",
    "for i, row in office.iterrows():\n",
    "    if row[\"has_guests\"]:\n",
    "        sizes.append(250)\n",
    "    else:\n",
    "        sizes.append(25)"
   ]
  },
  {
   "cell_type": "code",
   "execution_count": 7,
   "metadata": {
    "collapsed": true,
    "dc": {
     "key": "4"
    }
   },
   "outputs": [],
   "source": [
    "office[\"colors\"] = colors\n",
    "office[\"sizes\"] = sizes"
   ]
  },
  {
   "cell_type": "code",
   "execution_count": 8,
   "metadata": {
    "collapsed": true,
    "dc": {
     "key": "4"
    }
   },
   "outputs": [],
   "source": [
    "w_guest = office[office[\"has_guests\"] == True]\n",
    "wo_guest = office[office[\"has_guests\"] == False]"
   ]
  },
  {
   "cell_type": "code",
   "execution_count": 9,
   "metadata": {
    "dc": {
     "key": "4"
    }
   },
   "outputs": [
    {
     "name": "stderr",
     "output_type": "stream",
     "text": [
      "No handles with labels found to put in legend.\n"
     ]
    },
    {
     "data": {
      "image/png": "[encoded data removed]",
      "text/plain": [
       "<Figure size 792x504 with 1 Axes>"
      ]
     },
     "metadata": {
      "needs_background": "light"
     },
     "output_type": "display_data"
    }
   ],
   "source": [
    "fig = plt.figure()\n",
    "\n",
    "plt.scatter(w_guest['episode_number'], \n",
    "            w_guest['viewership_mil'],\n",
    "            marker='*', c=w_guest[\"colors\"], s=w_guest[\"sizes\"])\n",
    "\n",
    "plt.scatter(wo_guest['episode_number'], \n",
    "            wo_guest['viewership_mil'],\n",
    "            marker='o', c=wo_guest[\"colors\"], s=wo_guest[\"sizes\"], alpha=0.5)\n",
    "\n",
    "plt.title(\"Popularity, Quality, and Guest Appearances on the Office\")\n",
    "\n",
    "plt.xlabel(\"Episode Number\")\n",
    "plt.ylabel(\"Viewership (Millions)\")\n",
    "\n",
    "plt.legend()\n",
    "plt.show()"
   ]
  },
  {
   "cell_type": "markdown",
   "metadata": {
    "dc": {
     "key": "4"
    }
   },
   "source": [
    "### Checking which episode has the most viewership"
   ]
  },
  {
   "cell_type": "code",
   "execution_count": 10,
   "metadata": {
    "dc": {
     "key": "4"
    },
    "scrolled": true
   },
   "outputs": [
    {
     "data": {
      "text/html": [
       "<div>\n",
       "<style scoped>\n",
       "    .dataframe tbody tr th:only-of-type {\n",
       "        vertical-align: middle;\n",
       "    }\n",
       "\n",
       "    .dataframe tbody tr th {\n",
       "        vertical-align: top;\n",
       "    }\n",
       "\n",
       "    .dataframe thead th {\n",
       "        text-align: right;\n",
       "    }\n",
       "</style>\n",
       "<table border=\"1\" class=\"dataframe\">\n",
       "  <thead>\n",
       "    <tr style=\"text-align: right;\">\n",
       "      <th></th>\n",
       "      <th>episode_number</th>\n",
       "      <th>season</th>\n",
       "      <th>episode_title</th>\n",
       "      <th>description</th>\n",
       "      <th>ratings</th>\n",
       "      <th>votes</th>\n",
       "      <th>viewership_mil</th>\n",
       "      <th>duration</th>\n",
       "      <th>release_date</th>\n",
       "      <th>guest_stars</th>\n",
       "      <th>director</th>\n",
       "      <th>writers</th>\n",
       "      <th>has_guests</th>\n",
       "      <th>scaled_ratings</th>\n",
       "      <th>colors</th>\n",
       "      <th>sizes</th>\n",
       "    </tr>\n",
       "  </thead>\n",
       "  <tbody>\n",
       "    <tr>\n",
       "      <th>77</th>\n",
       "      <td>77</td>\n",
       "      <td>5</td>\n",
       "      <td>Stress Relief</td>\n",
       "      <td>Dwight's too-realistic fire alarm gives Stanle...</td>\n",
       "      <td>9.7</td>\n",
       "      <td>8170</td>\n",
       "      <td>22.91</td>\n",
       "      <td>60</td>\n",
       "      <td>2009-02-01</td>\n",
       "      <td>Cloris Leachman, Jack Black, Jessica Alba</td>\n",
       "      <td>Jeffrey Blitz</td>\n",
       "      <td>Paul Lieberstein</td>\n",
       "      <td>True</td>\n",
       "      <td>0.96875</td>\n",
       "      <td>darkgreen</td>\n",
       "      <td>250</td>\n",
       "    </tr>\n",
       "  </tbody>\n",
       "</table>\n",
       "</div>"
      ],
      "text/plain": [
       "    episode_number  season  episode_title  \\\n",
       "77              77       5  Stress Relief   \n",
       "\n",
       "                                          description  ratings  votes  \\\n",
       "77  Dwight's too-realistic fire alarm gives Stanle...      9.7   8170   \n",
       "\n",
       "    viewership_mil  duration release_date  \\\n",
       "77           22.91        60   2009-02-01   \n",
       "\n",
       "                                  guest_stars       director  \\\n",
       "77  Cloris Leachman, Jack Black, Jessica Alba  Jeffrey Blitz   \n",
       "\n",
       "             writers  has_guests  scaled_ratings     colors  sizes  \n",
       "77  Paul Lieberstein        True         0.96875  darkgreen    250  "
      ]
     },
     "execution_count": 10,
     "metadata": {},
     "output_type": "execute_result"
    }
   ],
   "source": [
    "most_viewed =office[office[\"viewership_mil\"] == office[\"viewership_mil\"].max()]\n",
    "most_viewed"
   ]
  },
  {
   "cell_type": "markdown",
   "metadata": {
    "dc": {
     "key": "4"
    }
   },
   "source": [
    "\n",
    "#### Guest stars of that episode"
   ]
  },
  {
   "cell_type": "code",
   "execution_count": 11,
   "metadata": {
    "dc": {
     "key": "4"
    },
    "scrolled": true
   },
   "outputs": [
    {
     "data": {
      "text/plain": [
       "['Cloris Leachman, Jack Black, Jessica Alba']"
      ]
     },
     "execution_count": 11,
     "metadata": {},
     "output_type": "execute_result"
    }
   ],
   "source": [
    "list(most_viewed[\"guest_stars\"])"
   ]
  },
  {
   "cell_type": "code",
   "execution_count": 12,
   "metadata": {
    "collapsed": true,
    "dc": {
     "key": "4"
    }
   },
   "outputs": [],
   "source": [
    "top_star=\"Jack Black\""
   ]
  },
  {
   "cell_type": "markdown",
   "metadata": {
    "dc": {
     "key": "4"
    }
   },
   "source": [
    "### Which guest appeared the most within all episodes?"
   ]
  },
  {
   "cell_type": "code",
   "execution_count": 13,
   "metadata": {
    "collapsed": true,
    "dc": {
     "key": "4"
    }
   },
   "outputs": [],
   "source": [
    "office_guests = office[[\"guest_stars\"]].dropna()"
   ]
  },
  {
   "cell_type": "code",
   "execution_count": 14,
   "metadata": {
    "collapsed": true,
    "dc": {
     "key": "4"
    },
    "scrolled": true
   },
   "outputs": [],
   "source": [
    "guests = []\n",
    "for i, row in office_guests.iterrows():\n",
    "    for guest in row[\"guest_stars\"].split(\", \"):\n",
    "        guests.append(guest)"
   ]
  },
  {
   "cell_type": "code",
   "execution_count": 15,
   "metadata": {
    "dc": {
     "key": "4"
    }
   },
   "outputs": [
    {
     "data": {
      "text/html": [
       "<div>\n",
       "<style scoped>\n",
       "    .dataframe tbody tr th:only-of-type {\n",
       "        vertical-align: middle;\n",
       "    }\n",
       "\n",
       "    .dataframe tbody tr th {\n",
       "        vertical-align: top;\n",
       "    }\n",
       "\n",
       "    .dataframe thead th {\n",
       "        text-align: right;\n",
       "    }\n",
       "</style>\n",
       "<table border=\"1\" class=\"dataframe\">\n",
       "  <thead>\n",
       "    <tr style=\"text-align: right;\">\n",
       "      <th></th>\n",
       "      <th>Name</th>\n",
       "      <th>Count</th>\n",
       "    </tr>\n",
       "  </thead>\n",
       "  <tbody>\n",
       "    <tr>\n",
       "      <th>0</th>\n",
       "      <td>Amy Adams</td>\n",
       "      <td>2</td>\n",
       "    </tr>\n",
       "    <tr>\n",
       "      <th>1</th>\n",
       "      <td>Josh Groban</td>\n",
       "      <td>2</td>\n",
       "    </tr>\n",
       "    <tr>\n",
       "      <th>2</th>\n",
       "      <td>Ricky Gervais</td>\n",
       "      <td>2</td>\n",
       "    </tr>\n",
       "  </tbody>\n",
       "</table>\n",
       "</div>"
      ],
      "text/plain": [
       "            Name  Count\n",
       "0      Amy Adams      2\n",
       "1    Josh Groban      2\n",
       "2  Ricky Gervais      2"
      ]
     },
     "execution_count": 15,
     "metadata": {},
     "output_type": "execute_result"
    }
   ],
   "source": [
    "from collections import Counter\n",
    "guest_df = pd.DataFrame(guests, columns=[\"Guest\"])\n",
    "\n",
    "\n",
    "counts = guest_df['Guest'].value_counts()\n",
    "\n",
    "guest_counts = pd.DataFrame({\n",
    "    'Name': counts.index,\n",
    "    'Count': counts.values\n",
    "})\n",
    "\n",
    "max_count = guest_counts['Count'].max()\n",
    "df_max_counts = guest_counts[guest_counts['Count'] == max_count]\n",
    "\n",
    "df_max_counts"
   ]
  }
 ],
 "metadata": {
  "kernelspec": {
   "display_name": "Python 3 (ipykernel)",
   "language": "python",
   "name": "python3"
  },
  "language_info": {
   "codemirror_mode": {
    "name": "ipython",
    "version": 3
   },
   "file_extension": ".py",
   "mimetype": "text/x-python",
   "name": "python",
   "nbconvert_exporter": "python",
   "pygments_lexer": "ipython3",
   "version": "3.10.6"
  }
 },
 "nbformat": 4,
 "nbformat_minor": 2
}
